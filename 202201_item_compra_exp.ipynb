{
 "cells": [
  {
   "cell_type": "code",
   "execution_count": 1,
   "metadata": {},
   "outputs": [],
   "source": [
    "import pandas as pd\n",
    "df_compras = pd.read_csv('202201_Compras.csv', sep=';', encoding='cp1252')\n",
    "\n",
    "https://portaldatransparencia.gov.br/download-de-dados/compras/202201"
   ]
  },
  {
   "cell_type": "code",
   "execution_count": 2,
   "metadata": {},
   "outputs": [
    {
     "data": {
      "text/html": [
       "<div>\n",
       "<style scoped>\n",
       "    .dataframe tbody tr th:only-of-type {\n",
       "        vertical-align: middle;\n",
       "    }\n",
       "\n",
       "    .dataframe tbody tr th {\n",
       "        vertical-align: top;\n",
       "    }\n",
       "\n",
       "    .dataframe thead th {\n",
       "        text-align: right;\n",
       "    }\n",
       "</style>\n",
       "<table border=\"1\" class=\"dataframe\">\n",
       "  <thead>\n",
       "    <tr style=\"text-align: right;\">\n",
       "      <th></th>\n",
       "      <th>Número do Contrato</th>\n",
       "      <th>Objeto</th>\n",
       "      <th>Fundamento Legal</th>\n",
       "      <th>Modalidade Compra</th>\n",
       "      <th>Situação Contrato</th>\n",
       "      <th>Código Órgão Superior</th>\n",
       "      <th>Nome Órgão Superior</th>\n",
       "      <th>Código Órgão</th>\n",
       "      <th>Nome Órgão</th>\n",
       "      <th>Código UG</th>\n",
       "      <th>...</th>\n",
       "      <th>Data Fim Vigência</th>\n",
       "      <th>Código Contratado</th>\n",
       "      <th>Nome Contratado</th>\n",
       "      <th>Valor Inicial Compra</th>\n",
       "      <th>Valor Final Compra</th>\n",
       "      <th>Número Licitação</th>\n",
       "      <th>Código UG Licitação</th>\n",
       "      <th>Nome UG Licitação</th>\n",
       "      <th>Código Modalidade Compra Licitação</th>\n",
       "      <th>Modalidade Compra Licitação</th>\n",
       "    </tr>\n",
       "  </thead>\n",
       "  <tbody>\n",
       "    <tr>\n",
       "      <th>1679</th>\n",
       "      <td>10042016</td>\n",
       "      <td>Objeto: PRESTAÇÃO DE SERVIÇOS JORNALÍSTICOS ES...</td>\n",
       "      <td>NaN</td>\n",
       "      <td>Sem Informação</td>\n",
       "      <td>Não se aplica</td>\n",
       "      <td>41000</td>\n",
       "      <td>Ministério das Comunicações</td>\n",
       "      <td>20415</td>\n",
       "      <td>Empresa Brasil de Comunicação</td>\n",
       "      <td>115406</td>\n",
       "      <td>...</td>\n",
       "      <td>01/03/2017</td>\n",
       "      <td>15841311000150</td>\n",
       "      <td>CONTRATADO : MULTICOM CONTEUDOS MULTIMIDIA E  ...</td>\n",
       "      <td>0,0000</td>\n",
       "      <td>0,0000</td>\n",
       "      <td>-3</td>\n",
       "      <td>NaN</td>\n",
       "      <td>NaN</td>\n",
       "      <td>NaN</td>\n",
       "      <td>NaN</td>\n",
       "    </tr>\n",
       "    <tr>\n",
       "      <th>3032</th>\n",
       "      <td>82022</td>\n",
       "      <td>Objeto: EXECUÇÃO DAS ATIVIDADES DE APOIO LOGÍS...</td>\n",
       "      <td>NaN</td>\n",
       "      <td>Dispensa de Licitação</td>\n",
       "      <td>Não se aplica</td>\n",
       "      <td>36000</td>\n",
       "      <td>Ministério da Saúde</td>\n",
       "      <td>36201</td>\n",
       "      <td>Fundação Oswaldo Cruz</td>\n",
       "      <td>254420</td>\n",
       "      <td>...</td>\n",
       "      <td>19/01/2024</td>\n",
       "      <td>02385669000174</td>\n",
       "      <td>FIOTEC - FUNDACAO PARA O DESENVOLVIMENTO CIENT...</td>\n",
       "      <td>3000000,0000</td>\n",
       "      <td>3000000,0000</td>\n",
       "      <td>1672021</td>\n",
       "      <td>254420.0</td>\n",
       "      <td>FUNDACAO OSWALDO CRUZ</td>\n",
       "      <td>6.0</td>\n",
       "      <td>Dispensa de Licitação</td>\n",
       "    </tr>\n",
       "    <tr>\n",
       "      <th>2961</th>\n",
       "      <td>12022</td>\n",
       "      <td>Objeto: O OBJETO DO PRESENTE INSTRUMENTO É A C...</td>\n",
       "      <td>NaN</td>\n",
       "      <td>Sem Informação</td>\n",
       "      <td>Não se aplica</td>\n",
       "      <td>26000</td>\n",
       "      <td>Ministério da Educação</td>\n",
       "      <td>26402</td>\n",
       "      <td>Instituto Federal de Alagoas</td>\n",
       "      <td>158383</td>\n",
       "      <td>...</td>\n",
       "      <td>01/02/2023</td>\n",
       "      <td>12957444000107</td>\n",
       "      <td>FLEX PROJETOS E SISTEMAS LTDA</td>\n",
       "      <td>59310,0000</td>\n",
       "      <td>59310,0000</td>\n",
       "      <td>-3</td>\n",
       "      <td>NaN</td>\n",
       "      <td>NaN</td>\n",
       "      <td>NaN</td>\n",
       "      <td>NaN</td>\n",
       "    </tr>\n",
       "    <tr>\n",
       "      <th>308</th>\n",
       "      <td>32022</td>\n",
       "      <td>Objeto: AQUISIÇÃO DE GÊNEROS ALIMENTÍCIOS (FRU...</td>\n",
       "      <td>NaN</td>\n",
       "      <td>Pregão - Registro de Preço</td>\n",
       "      <td>Não se aplica</td>\n",
       "      <td>26000</td>\n",
       "      <td>Ministério da Educação</td>\n",
       "      <td>26405</td>\n",
       "      <td>Instituto Federal do Ceará</td>\n",
       "      <td>158318</td>\n",
       "      <td>...</td>\n",
       "      <td>11/01/2023</td>\n",
       "      <td>24334945000108</td>\n",
       "      <td>DLA COMERCIAL DE ALIMENTOS EIRELI</td>\n",
       "      <td>411144,0000</td>\n",
       "      <td>411144,0000</td>\n",
       "      <td>42021</td>\n",
       "      <td>158320.0</td>\n",
       "      <td>CAMPUS IGUATU/IFCE</td>\n",
       "      <td>-99.0</td>\n",
       "      <td>Pregão - Registro de Preço</td>\n",
       "    </tr>\n",
       "    <tr>\n",
       "      <th>1775</th>\n",
       "      <td>1222020</td>\n",
       "      <td>Objeto: PRESTAÇÃO COMPLEMENTAR DE SERVIÇOS DE ...</td>\n",
       "      <td>NaN</td>\n",
       "      <td>Inexigibilidade de Licitação</td>\n",
       "      <td>Não se aplica</td>\n",
       "      <td>52000</td>\n",
       "      <td>Ministério da Defesa</td>\n",
       "      <td>52121</td>\n",
       "      <td>Comando do Exército</td>\n",
       "      <td>160121</td>\n",
       "      <td>...</td>\n",
       "      <td>31/12/2022</td>\n",
       "      <td>26494296000138</td>\n",
       "      <td>LAC SAUDE - VIDA MANANCIAL LTDA</td>\n",
       "      <td>334009,5800</td>\n",
       "      <td>334009,5800</td>\n",
       "      <td>1342019</td>\n",
       "      <td>160121.0</td>\n",
       "      <td>HOSPITAL GERAL DE JUIZ DE FORA</td>\n",
       "      <td>7.0</td>\n",
       "      <td>Inexigibilidade de Licitação</td>\n",
       "    </tr>\n",
       "  </tbody>\n",
       "</table>\n",
       "<p>5 rows × 24 columns</p>\n",
       "</div>"
      ],
      "text/plain": [
       "      Número do Contrato                                             Objeto  \\\n",
       "1679            10042016  Objeto: PRESTAÇÃO DE SERVIÇOS JORNALÍSTICOS ES...   \n",
       "3032               82022  Objeto: EXECUÇÃO DAS ATIVIDADES DE APOIO LOGÍS...   \n",
       "2961               12022  Objeto: O OBJETO DO PRESENTE INSTRUMENTO É A C...   \n",
       "308                32022  Objeto: AQUISIÇÃO DE GÊNEROS ALIMENTÍCIOS (FRU...   \n",
       "1775             1222020  Objeto: PRESTAÇÃO COMPLEMENTAR DE SERVIÇOS DE ...   \n",
       "\n",
       "     Fundamento Legal             Modalidade Compra Situação Contrato  \\\n",
       "1679              NaN                Sem Informação     Não se aplica   \n",
       "3032              NaN         Dispensa de Licitação     Não se aplica   \n",
       "2961              NaN                Sem Informação     Não se aplica   \n",
       "308               NaN    Pregão - Registro de Preço     Não se aplica   \n",
       "1775              NaN  Inexigibilidade de Licitação     Não se aplica   \n",
       "\n",
       "      Código Órgão Superior          Nome Órgão Superior  Código Órgão  \\\n",
       "1679                  41000  Ministério das Comunicações         20415   \n",
       "3032                  36000          Ministério da Saúde         36201   \n",
       "2961                  26000       Ministério da Educação         26402   \n",
       "308                   26000       Ministério da Educação         26405   \n",
       "1775                  52000         Ministério da Defesa         52121   \n",
       "\n",
       "                         Nome Órgão  Código UG  ... Data Fim Vigência  \\\n",
       "1679  Empresa Brasil de Comunicação     115406  ...        01/03/2017   \n",
       "3032          Fundação Oswaldo Cruz     254420  ...        19/01/2024   \n",
       "2961   Instituto Federal de Alagoas     158383  ...        01/02/2023   \n",
       "308      Instituto Federal do Ceará     158318  ...        11/01/2023   \n",
       "1775            Comando do Exército     160121  ...        31/12/2022   \n",
       "\n",
       "     Código Contratado                                    Nome Contratado  \\\n",
       "1679    15841311000150  CONTRATADO : MULTICOM CONTEUDOS MULTIMIDIA E  ...   \n",
       "3032    02385669000174  FIOTEC - FUNDACAO PARA O DESENVOLVIMENTO CIENT...   \n",
       "2961    12957444000107                      FLEX PROJETOS E SISTEMAS LTDA   \n",
       "308     24334945000108                  DLA COMERCIAL DE ALIMENTOS EIRELI   \n",
       "1775    26494296000138                    LAC SAUDE - VIDA MANANCIAL LTDA   \n",
       "\n",
       "     Valor Inicial Compra Valor Final Compra Número Licitação  \\\n",
       "1679               0,0000             0,0000               -3   \n",
       "3032         3000000,0000       3000000,0000          1672021   \n",
       "2961           59310,0000         59310,0000               -3   \n",
       "308           411144,0000        411144,0000            42021   \n",
       "1775          334009,5800        334009,5800          1342019   \n",
       "\n",
       "     Código UG Licitação               Nome UG Licitação  \\\n",
       "1679                 NaN                             NaN   \n",
       "3032            254420.0           FUNDACAO OSWALDO CRUZ   \n",
       "2961                 NaN                             NaN   \n",
       "308             158320.0              CAMPUS IGUATU/IFCE   \n",
       "1775            160121.0  HOSPITAL GERAL DE JUIZ DE FORA   \n",
       "\n",
       "     Código Modalidade Compra Licitação   Modalidade Compra Licitação  \n",
       "1679                                NaN                           NaN  \n",
       "3032                                6.0         Dispensa de Licitação  \n",
       "2961                                NaN                           NaN  \n",
       "308                               -99.0    Pregão - Registro de Preço  \n",
       "1775                                7.0  Inexigibilidade de Licitação  \n",
       "\n",
       "[5 rows x 24 columns]"
      ]
     },
     "execution_count": 2,
     "metadata": {},
     "output_type": "execute_result"
    }
   ],
   "source": [
    "df_compras.sample(5)"
   ]
  },
  {
   "cell_type": "code",
   "execution_count": 3,
   "metadata": {},
   "outputs": [],
   "source": [
    "# Aplicar uma função para percorrer todas as colunas, contar quantos caracteres temos em cada coluna de máximo para configurar o banco de dados\n",
    "def max_string_length(df):\n",
    "    max_lengths = {}\n",
    "    for col in df:\n",
    "        if df[col].dtype == 'object':  # verifica se o tipo da coluna é string\n",
    "            max_lengths[col] = df[col].apply(lambda x: len(str(x))).max()  # aplica a função len() em cada valor da coluna e encontra o máximo\n",
    "    return max_lengths"
   ]
  },
  {
   "cell_type": "code",
   "execution_count": 4,
   "metadata": {},
   "outputs": [
    {
     "name": "stdout",
     "output_type": "stream",
     "text": [
      "{'Objeto': 520, 'Fundamento Legal': 141, 'Modalidade Compra': 28, 'Situação Contrato': 13, 'Nome Órgão Superior': 45, 'Nome Órgão': 45, 'Nome UG': 45, 'Data Assinatura Contrato': 10, 'Data Publicação DOU': 10, 'Data Início Vigência': 10, 'Data Fim Vigência': 10, 'Código Contratado': 32, 'Nome Contratado': 80, 'Valor Inicial Compra': 15, 'Valor Final Compra': 15, 'Nome UG Licitação': 45, 'Modalidade Compra Licitação': 28}\n"
     ]
    }
   ],
   "source": [
    "print(max_string_length(df_compras))  # imprimir as colunas:qtde maior de caracteres encontrada"
   ]
  },
  {
   "cell_type": "code",
   "execution_count": 5,
   "metadata": {},
   "outputs": [
    {
     "name": "stdout",
     "output_type": "stream",
     "text": [
      "<class 'pandas.core.frame.DataFrame'>\n",
      "RangeIndex: 3237 entries, 0 to 3236\n",
      "Data columns (total 24 columns):\n",
      " #   Column                              Non-Null Count  Dtype  \n",
      "---  ------                              --------------  -----  \n",
      " 0   Número do Contrato                  3237 non-null   int64  \n",
      " 1   Objeto                              3237 non-null   object \n",
      " 2   Fundamento Legal                    17 non-null     object \n",
      " 3   Modalidade Compra                   3237 non-null   object \n",
      " 4   Situação Contrato                   3237 non-null   object \n",
      " 5   Código Órgão Superior               3237 non-null   int64  \n",
      " 6   Nome Órgão Superior                 3237 non-null   object \n",
      " 7   Código Órgão                        3237 non-null   int64  \n",
      " 8   Nome Órgão                          3237 non-null   object \n",
      " 9   Código UG                           3237 non-null   int64  \n",
      " 10  Nome UG                             3237 non-null   object \n",
      " 11  Data Assinatura Contrato            3237 non-null   object \n",
      " 12  Data Publicação DOU                 3237 non-null   object \n",
      " 13  Data Início Vigência                3237 non-null   object \n",
      " 14  Data Fim Vigência                   3236 non-null   object \n",
      " 15  Código Contratado                   3237 non-null   object \n",
      " 16  Nome Contratado                     3237 non-null   object \n",
      " 17  Valor Inicial Compra                3237 non-null   object \n",
      " 18  Valor Final Compra                  3237 non-null   object \n",
      " 19  Número Licitação                    3237 non-null   int64  \n",
      " 20  Código UG Licitação                 2745 non-null   float64\n",
      " 21  Nome UG Licitação                   2745 non-null   object \n",
      " 22  Código Modalidade Compra Licitação  2745 non-null   float64\n",
      " 23  Modalidade Compra Licitação         2745 non-null   object \n",
      "dtypes: float64(2), int64(5), object(17)\n",
      "memory usage: 607.1+ KB\n"
     ]
    }
   ],
   "source": [
    "df_compras.info()"
   ]
  },
  {
   "cell_type": "code",
   "execution_count": 6,
   "metadata": {},
   "outputs": [
    {
     "data": {
      "text/plain": [
       "array(['Não se aplica', 'Fechado', 'Pendente'], dtype=object)"
      ]
     },
     "execution_count": 6,
     "metadata": {},
     "output_type": "execute_result"
    }
   ],
   "source": [
    "df_compras['Situação Contrato'].unique()"
   ]
  },
  {
   "cell_type": "code",
   "execution_count": 7,
   "metadata": {},
   "outputs": [
    {
     "data": {
      "text/plain": [
       "Index(['Número do Contrato', 'Objeto', 'Fundamento Legal', 'Modalidade Compra',\n",
       "       'Situação Contrato', 'Código Órgão Superior', 'Nome Órgão Superior',\n",
       "       'Código Órgão', 'Nome Órgão', 'Código UG', 'Nome UG',\n",
       "       'Data Assinatura Contrato', 'Data Publicação DOU',\n",
       "       'Data Início Vigência', 'Data Fim Vigência', 'Código Contratado',\n",
       "       'Nome Contratado', 'Valor Inicial Compra', 'Valor Final Compra',\n",
       "       'Número Licitação', 'Código UG Licitação', 'Nome UG Licitação',\n",
       "       'Código Modalidade Compra Licitação', 'Modalidade Compra Licitação'],\n",
       "      dtype='object')"
      ]
     },
     "execution_count": 7,
     "metadata": {},
     "output_type": "execute_result"
    }
   ],
   "source": [
    "df_compras.columns"
   ]
  },
  {
   "cell_type": "code",
   "execution_count": 13,
   "metadata": {},
   "outputs": [
    {
     "data": {
      "text/plain": [
       "True     2568\n",
       "False     669\n",
       "Name: Número do Contrato, dtype: int64"
      ]
     },
     "execution_count": 13,
     "metadata": {},
     "output_type": "execute_result"
    }
   ],
   "source": [
    "#Verificando se tem valores duplicados, pois isso afetará o relacionamento\n",
    "duplicates = df_compras['Número do Contrato'].duplicated()\n",
    "duplicates.value_counts()"
   ]
  },
  {
   "cell_type": "code",
   "execution_count": null,
   "metadata": {},
   "outputs": [],
   "source": []
  }
 ],
 "metadata": {
  "kernelspec": {
   "display_name": "Python 3",
   "language": "python",
   "name": "python3"
  },
  "language_info": {
   "codemirror_mode": {
    "name": "ipython",
    "version": 3
   },
   "file_extension": ".py",
   "mimetype": "text/x-python",
   "name": "python",
   "nbconvert_exporter": "python",
   "pygments_lexer": "ipython3",
   "version": "3.9.10 (tags/v3.9.10:f2f3f53, Jan 17 2022, 15:14:21) [MSC v.1929 64 bit (AMD64)]"
  },
  "orig_nbformat": 4,
  "vscode": {
   "interpreter": {
    "hash": "7d62a96da172c70c1e5d187d78197a80bb9190cfe93c20bfc144dedb83f5f18d"
   }
  }
 },
 "nbformat": 4,
 "nbformat_minor": 2
}
